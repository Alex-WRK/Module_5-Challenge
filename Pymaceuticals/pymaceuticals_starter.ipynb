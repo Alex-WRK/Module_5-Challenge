{
 "cells": [
  {
   "cell_type": "markdown",
   "metadata": {},
   "source": [
    "# Pymaceuticals Inc.\n",
    "---\n",
    "\n",
    "### Analysis\n",
    "\n",
    "In this data analysis, we investigated a mouse study dataset to gain insights into the effectiveness of various treatment regimens on tumor volume. We performed data cleaning, summary statistics calculation, data visualization, and statistical analysis to understand the relationships between variables and draw meaningful conclusions.\n",
    "\n",
    "#### Data Cleaning and Exploration\n",
    "This initial phase of the analysis involved data cleaning and exploration. The mouse data and study were merged into a single DataFrame to consolidate relevant information.\n",
    "Duplicate data was identified based on unique identifiers and inconsistencies were resolved.\n",
    "The cleaned dataset comprised information on mouse characteristics, treatment regimens, tumor volume and other relevant data points.\n",
    "\n",
    "#### Summary Statistics\n",
    "Summary statistics were calculated to gain insights into the tumor volume distribution across different drug regimens.\n",
    "Mean, median, variance, standard deviation and standard error were computed for each regimen. The resulting statistics table provided a comprehensive overview of the tumor volume characteristics for each drug regimen.\n",
    "\n",
    "#### Data Visualization\n",
    "Visualization played a key role in understanding the dataset and communicating the findings.\n",
    "Bar charts were used to visualize the total number of data points for each drug regimen, offering a clear comparison among the treatements.\n",
    "Pie charts were used to illustrate the gender distributuion among the mice, helping to provide an overview of the study's composition. Box plots helped in understanding the distribution and potential outliers in tumor volume across different treatment groups.\n",
    "\n",
    "#### Statistical Analysis\n",
    "Correlation analysis was conducted to evaluate the relationshipo between mouse weight and avegrage observed tumor volume for the Capomulin regiment.\n",
    "Linear regreassion analysis was performed to model the relationship between mouse weight and timor volume, and to assess the signficance of the regression parameters.\n",
    "\n",
    "Based on my analysis, the following key findings were observed\n",
    "\n",
    "- The dataset contained 248 unique mice\n",
    "- The most promising regimens were Capomulin, Ramicane, Infubino and Ceftamin, which showed varying levels of effectiveness in reducing tumor volume.\n",
    "- The Capomulin regimen showed a strong negative correlation between mouse weight and average tumor volume, indicating that heavier mice tended to have larger tumor volumes.\n",
    "\n",
    "\n",
    " "
   ]
  },
  {
   "cell_type": "code",
   "execution_count": 2,
   "metadata": {},
   "outputs": [
    {
     "ename": "ModuleNotFoundError",
     "evalue": "No module named 'spicy'",
     "output_type": "error",
     "traceback": [
      "\u001b[1;31m---------------------------------------------------------------------------\u001b[0m",
      "\u001b[1;31mModuleNotFoundError\u001b[0m                       Traceback (most recent call last)",
      "Cell \u001b[1;32mIn[2], line 5\u001b[0m\n\u001b[0;32m      3\u001b[0m \u001b[38;5;28;01mimport\u001b[39;00m \u001b[38;5;21;01mpandas\u001b[39;00m \u001b[38;5;28;01mas\u001b[39;00m \u001b[38;5;21;01mpd\u001b[39;00m\n\u001b[0;32m      4\u001b[0m \u001b[38;5;28;01mimport\u001b[39;00m \u001b[38;5;21;01mscipy\u001b[39;00m\u001b[38;5;21;01m.\u001b[39;00m\u001b[38;5;21;01mstats\u001b[39;00m \u001b[38;5;28;01mas\u001b[39;00m \u001b[38;5;21;01mst\u001b[39;00m\n\u001b[1;32m----> 5\u001b[0m \u001b[38;5;28;01mfrom\u001b[39;00m \u001b[38;5;21;01mspicy\u001b[39;00m\u001b[38;5;21;01m.\u001b[39;00m\u001b[38;5;21;01mstats\u001b[39;00m \u001b[38;5;28;01mimport\u001b[39;00m linregress\n\u001b[0;32m      6\u001b[0m \u001b[38;5;28;01mimport\u001b[39;00m \u001b[38;5;21;01mnumpy\u001b[39;00m \u001b[38;5;28;01mas\u001b[39;00m \u001b[38;5;21;01mnp\u001b[39;00m\n\u001b[0;32m      8\u001b[0m \u001b[38;5;66;03m# Study data files\u001b[39;00m\n",
      "\u001b[1;31mModuleNotFoundError\u001b[0m: No module named 'spicy'"
     ]
    }
   ],
   "source": [
    "# Dependencies and Setup\n",
    "import matplotlib.pyplot as plt\n",
    "import pandas as pd\n",
    "import scipy.stats as st\n",
    "from scipy.stats import linregress\n",
    "import numpy as np\n",
    "\n",
    "# Study data files\n",
    "mouse_metadata_path = \"data/Mouse_metadata.csv\"\n",
    "study_results_path = \"data/Study_results.csv\"\n",
    "\n",
    "# Read the mouse data and the study results\n",
    "mouse_metadata = pd.read_csv(mouse_metadata_path)\n",
    "study_results = pd.read_csv(study_results_path)\n",
    "\n",
    "# Combine the data into a single DataFrame\n",
    "\n",
    "merged_data = study_results.join(mouse_metadata.set_index('Mouse ID'), on='Mouse ID')\n",
    "\n",
    "# Display the data table for preview\n",
    "\n",
    "merged_data.head()"
   ]
  },
  {
   "cell_type": "code",
   "execution_count": null,
   "metadata": {},
   "outputs": [],
   "source": [
    "# Checking the number of mice.\n",
    "unique_mice_count = merged_data['Mouse ID'].nunique()\n",
    "unique_mice_count"
   ]
  },
  {
   "cell_type": "code",
   "execution_count": null,
   "metadata": {},
   "outputs": [],
   "source": [
    "# Our data should be uniquely identified by Mouse ID and Timepoint\n",
    "# Get the duplicate mice by ID number that shows up for Mouse ID and Timepoint. \n",
    "duplicate_mice = merged_data[merged_data.duplicated(['Mouse ID', 'Timepoint'])]['Mouse ID'].unique()\n",
    "\n",
    "duplicate_mice"
   ]
  },
  {
   "cell_type": "code",
   "execution_count": null,
   "metadata": {
    "scrolled": true
   },
   "outputs": [],
   "source": [
    "# Optional: Get all the data for the duplicate mouse ID. \n",
    "duplicate_data = merged_data.loc[merged_data['Mouse ID'].isin(duplicate_mice)]\n",
    "\n",
    "duplicate_data\n"
   ]
  },
  {
   "cell_type": "code",
   "execution_count": null,
   "metadata": {},
   "outputs": [],
   "source": [
    "# Create a clean DataFrame by dropping the duplicate mouse by its ID.\n",
    "cleaned_data = merged_data[merged_data['Mouse ID'] != 'g989']\n",
    "\n",
    "cleaned_data.to_csv('cleaned_data.csv', index=False)\n",
    "cleaned_data\n"
   ]
  },
  {
   "cell_type": "code",
   "execution_count": null,
   "metadata": {},
   "outputs": [],
   "source": [
    "# Checking the number of mice in the clean DataFrame.\n",
    "num_mice_cleaned = cleaned_data['Mouse ID'].nunique()\n",
    "num_mice_cleaned"
   ]
  },
  {
   "cell_type": "markdown",
   "metadata": {},
   "source": [
    "## Summary Statistics"
   ]
  },
  {
   "cell_type": "code",
   "execution_count": null,
   "metadata": {
    "scrolled": true
   },
   "outputs": [],
   "source": [
    "# Generate a summary statistics table of mean, median, variance, standard deviation, and SEM of the tumor volume for each regimen\n",
    "\n",
    "mean = cleaned_data['Tumor Volume (mm3)'].groupby(cleaned_data['Drug Regimen']).mean()\n",
    "median = cleaned_data['Tumor Volume (mm3)'].groupby(cleaned_data['Drug Regimen']).median()\n",
    "var = cleaned_data['Tumor Volume (mm3)'].groupby(cleaned_data['Drug Regimen']).var()\n",
    "std = cleaned_data['Tumor Volume (mm3)'].groupby(cleaned_data['Drug Regimen']).std()\n",
    "sem = cleaned_data['Tumor Volume (mm3)'].groupby(cleaned_data['Drug Regimen']).sem()\n",
    "\n",
    "summary_stat = pd.DataFrame({\"Mean Tumor Volume\":mean, \n",
    "                            \"Median Tumor Volume\":median, \n",
    "                           \"Tumor Volume Variance\":var, \n",
    "                           \"Tumor Volume Std. Dev.\":std, \n",
    "                           \"Tumor Volume Std. Err.\":sem})\n",
    "\n",
    "# Assemble the resulting series into a single summary DataFrame.\n",
    "summary_stat\n",
    "\n"
   ]
  },
  {
   "cell_type": "code",
   "execution_count": null,
   "metadata": {},
   "outputs": [],
   "source": [
    "# A more advanced method to generate a summary statistics table of mean, median, variance, standard deviation,\n",
    "# and SEM of the tumor volume for each regimen (only one method is required in the solution)\n",
    "\n",
    "# Using the aggregation method, produce the same summary statistics in a single line\n",
    "\n",
    "summary_stats = cleaned_data.groupby(['Drug Regimen'])[['Tumor Volume (mm3)']].agg(['mean', 'median', 'var', 'std', 'sem'])\n",
    "\n",
    "\n",
    "summary_stats"
   ]
  },
  {
   "cell_type": "markdown",
   "metadata": {},
   "source": [
    "## Bar and Pie Charts"
   ]
  },
  {
   "cell_type": "code",
   "execution_count": null,
   "metadata": {},
   "outputs": [],
   "source": [
    "# Generate a bar plot showing the total number of rows (Mouse ID/Timepoints) for each drug regimen using Pandas.\n",
    "\n",
    "regimen_count = cleaned_data['Drug Regimen'].value_counts()\n",
    "\n",
    "regimen_count.plot(kind='bar', xlabel='Drug Regimen', ylabel='# of Observed Mouse Timepoints', title='Total Rows per Drug Regimen',figsize=(5, 5))\n",
    "plt.show()"
   ]
  },
  {
   "cell_type": "code",
   "execution_count": null,
   "metadata": {},
   "outputs": [],
   "source": [
    "# Generate a bar plot showing the total number of rows (Mouse ID/Timepoints) for each drug regimen using pyplot.\n",
    "\n",
    "plt.figure(figsize=(5, 5))\n",
    "plt.bar(regimen_count.index, regimen_count.values)\n",
    "plt.title('Total Number of Rows by Drug Regimen')\n",
    "plt.xlabel('Drug Regimen')\n",
    "plt.ylabel('# of Observed Mouse Timepoints')\n",
    "plt.xticks(rotation='vertical')\n",
    "plt.show()"
   ]
  },
  {
   "cell_type": "code",
   "execution_count": null,
   "metadata": {},
   "outputs": [],
   "source": [
    "# Generate a pie plot showing the distribution of female versus male mice using Pandas\n",
    "mice_count = cleaned_data[\"Sex\"].value_counts()\n",
    "plt.title('Distribution of Female vs Male Mice')\n",
    "mice_count.plot.pie(autopct='%1.1f%%')\n",
    "plt.show()"
   ]
  },
  {
   "cell_type": "code",
   "execution_count": null,
   "metadata": {},
   "outputs": [],
   "source": [
    "# Generate a pie plot showing the distribution of female versus male mice using pyplot\n",
    "\n",
    "plt.pie(mice_count, labels=mice_count.index, autopct='%1.1f%%', startangle=90)\n",
    "plt.title('Distribution of Female vs Male Mice')\n",
    "plt.axis('equal')\n",
    "plt.show()"
   ]
  },
  {
   "cell_type": "markdown",
   "metadata": {},
   "source": [
    "## Quartiles, Outliers and Boxplots"
   ]
  },
  {
   "cell_type": "code",
   "execution_count": null,
   "metadata": {},
   "outputs": [],
   "source": [
    "# Calculate the final tumor volume of each mouse across four of the treatment regimens:  \n",
    "# Capomulin, Ramicane, Infubinol, and Ceftamin\n",
    "\n",
    "promising_regimens = ['Capomulin', 'Ramicane', 'Infubinol', 'Ceftamin']\n",
    "promising_data = cleaned_data[cleaned_data['Drug Regimen'].isin(promising_regimens)]\n",
    "\n",
    "# Start by getting the last (greatest) timepoint for each mouse\n",
    "\n",
    "final_timepoints = cleaned_data.groupby([\"Mouse ID\"])[\"Timepoint\"].max()\n",
    "\n",
    "# Merge this group df with the original DataFrame to get the tumor volume at the last timepoint\n",
    "\n",
    "final_tumor_volume = pd.merge(cleaned_data, final_timepoints, on=(\"Mouse ID\", \"Timepoint\"), how=\"right\")\n",
    "\n",
    "final_tumor_volume.head(250)"
   ]
  },
  {
   "cell_type": "code",
   "execution_count": null,
   "metadata": {},
   "outputs": [],
   "source": [
    "# Put treatments into a list for for loop (and later for plot labels)\n",
    "\n",
    "# Create empty list to fill with tumor vol data (for plotting)\n",
    "\n",
    "# Calculate the IQR and quantitatively determine if there are any potential outliers. \n",
    "\n",
    "  # Locate the rows which contain mice on each drug and get the tumor volumes\n",
    "    # add subset    \n",
    "    # Determine outliers using upper and lower bounds\n",
    "\n",
    "treatment_names = ['Capomulin', 'Ramicane', 'Infubinol', 'Ceftamin']\n",
    "\n",
    "tumor_volume_data = {}\n",
    "\n",
    "for drug in treatment_names:\n",
    "    drug_rows = final_tumor_volume.loc[final_tumor_volume['Drug Regimen']== drug]\n",
    "    volumes = drug_rows['Tumor Volume (mm3)']\n",
    "    tumor_volume_data[drug] = volumes\n",
    "    quartile_1 = volumes.quantile(0.25)\n",
    "    quartile_3 = volumes.quantile(0.75)\n",
    "    iqr = quartile_3 - quartile_1\n",
    "    lower_bound = quartile_1 - 1.5 * iqr\n",
    "    upper_bound = quartile_3 + 1.5 * iqr\n",
    "    outliers = volumes[(volumes < lower_bound) | (volumes > upper_bound)]\n",
    "    print(f\"Drug: {drug}\")\n",
    "    if len(outliers) == 0:\n",
    "        print(\"No outliers found.\")\n",
    "    else:\n",
    "       print(\"Potential outliers:\")\n",
    "    print(outliers)\n",
    "    print()\n",
    "    "
   ]
  },
  {
   "cell_type": "code",
   "execution_count": null,
   "metadata": {},
   "outputs": [],
   "source": [
    "# Generate a box plot that shows the distrubution of the tumor volume for each treatment group.\n",
    "\n",
    "treatment_regimens = ['Capomulin', 'Ramicane', 'Infubinol', 'Ceftamin']\n",
    "filtered_data = final_tumor_volume[final_tumor_volume['Drug Regimen'].isin(treatment_regimens)]\n",
    "\n",
    "grouped_data = filtered_data.groupby('Drug Regimen')['Tumor Volume (mm3)'].apply(list)\n",
    "\n",
    "treatment_names = grouped_data.index.tolist()\n",
    "\n",
    "data = grouped_data.tolist()\n",
    "\n",
    "plt.boxplot(data, labels=treatment_names)\n",
    "\n",
    "plt.xlabel('Treatment Group')\n",
    "plt.ylabel('Tumor Volume (mm3)')\n",
    "plt.title('Distribution of Tumor Volume by Treatment Group')\n",
    "plt.show()"
   ]
  },
  {
   "cell_type": "markdown",
   "metadata": {},
   "source": [
    "## Line and Scatter Plots"
   ]
  },
  {
   "cell_type": "code",
   "execution_count": null,
   "metadata": {},
   "outputs": [],
   "source": [
    "# Generate a line plot of tumor volume vs. time point for a single mouse treated with Capomulin\n",
    "\n",
    "mouse_data = cleaned_data[(cleaned_data['Drug Regimen'] == 'Capomulin') & (cleaned_data['Mouse ID'] == 'b128')]\n",
    "plt.plot(mouse_data['Timepoint'], mouse_data['Tumor Volume (mm3)'], marker='o')\n",
    "plt.title('Capomulin treatment of mouse B128')\n",
    "plt.xlabel('Time Point')\n",
    "plt.ylabel('Tumor Volume (mm3)')\n",
    "plt.show()\n"
   ]
  },
  {
   "cell_type": "code",
   "execution_count": null,
   "metadata": {},
   "outputs": [],
   "source": [
    "# Generate a scatter plot of mouse weight vs. the average observed tumor volume for the entire Capomulin regimen\n",
    "\n",
    "capomulin_data = final_tumor_volume[final_tumor_volume['Drug Regimen'] == 'Capomulin']\n",
    "average_tumor_volume = capomulin_data.groupby('Mouse ID')['Tumor Volume (mm3)'].mean()\n",
    "mouse_weight = capomulin_data.groupby('Mouse ID')['Weight (g)'].first()\n",
    "\n",
    "plt.scatter(mouse_weight, average_tumor_volume)\n",
    "plt.xlabel('Mouse Weight (g)')\n",
    "plt.ylabel('Average Tumor Volume (mm3)')\n",
    "plt.title('Mouse Weight vs. Average Tumor Volume for Capomulin Regimen')\n",
    "\n",
    "plt.show()"
   ]
  },
  {
   "cell_type": "markdown",
   "metadata": {},
   "source": [
    "## Correlation and Regression"
   ]
  },
  {
   "cell_type": "code",
   "execution_count": null,
   "metadata": {},
   "outputs": [],
   "source": [
    "# Calculate the correlation coefficient and a linear regression model \n",
    "# for mouse weight and average observed tumor volume for the entire Capomulin regimen\n",
    "\n",
    "capomulin_data = final_tumor_volume[final_tumor_volume['Drug Regimen'] == 'Capomulin']\n",
    "average_tumor_volume = capomulin_data.groupby('Mouse ID')['Tumor Volume (mm3)'].mean()\n",
    "mouse_weight = capomulin_data.groupby('Mouse ID')['Weight (g)'].first()\n",
    "correlation = np.corrcoef(mouse_weight, average_tumor_volume)[0, 1]\n",
    "coefficients = np.polyfit(mouse_weight, average_tumor_volume, 1)\n",
    "slope = coefficients[0]\n",
    "intercept = coefficients[1]\n",
    "\n",
    "plt.scatter(mouse_weight, average_tumor_volume)\n",
    "plt.xlabel('Mouse Weight (g)')\n",
    "plt.ylabel('Average Tumor Volume (mm3)')\n",
    "plt.title('Mouse Weight vs. Average Tumor Volume for Capomulin Regimen')\n",
    "\n",
    "plt.plot(mouse_weight, slope * mouse_weight + intercept, 'r')\n",
    "\n",
    "plt.show()"
   ]
  },
  {
   "cell_type": "code",
   "execution_count": null,
   "metadata": {},
   "outputs": [],
   "source": []
  }
 ],
 "metadata": {
  "anaconda-cloud": {},
  "kernelspec": {
   "display_name": "Python 3 (ipykernel)",
   "language": "python",
   "name": "python3"
  },
  "language_info": {
   "codemirror_mode": {
    "name": "ipython",
    "version": 3
   },
   "file_extension": ".py",
   "mimetype": "text/x-python",
   "name": "python",
   "nbconvert_exporter": "python",
   "pygments_lexer": "ipython3",
   "version": "3.10.11"
  }
 },
 "nbformat": 4,
 "nbformat_minor": 4
}
